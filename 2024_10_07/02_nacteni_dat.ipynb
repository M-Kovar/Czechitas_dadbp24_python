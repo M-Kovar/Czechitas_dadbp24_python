{
 "cells": [
  {
   "cell_type": "markdown",
   "metadata": {},
   "source": [
    "# Načtení dat a popisné metody"
   ]
  },
  {
   "cell_type": "markdown",
   "metadata": {},
   "source": [
    "## Načtení dat"
   ]
  },
  {
   "cell_type": "code",
   "execution_count": 15,
   "metadata": {},
   "outputs": [
    {
     "data": {
      "text/html": [
       "<div>\n",
       "<style scoped>\n",
       "    .dataframe tbody tr th:only-of-type {\n",
       "        vertical-align: middle;\n",
       "    }\n",
       "\n",
       "    .dataframe tbody tr th {\n",
       "        vertical-align: top;\n",
       "    }\n",
       "\n",
       "    .dataframe thead th {\n",
       "        text-align: right;\n",
       "    }\n",
       "</style>\n",
       "<table border=\"1\" class=\"dataframe\">\n",
       "  <thead>\n",
       "    <tr style=\"text-align: right;\">\n",
       "      <th></th>\n",
       "      <th>fdc_id</th>\n",
       "      <th>data_type</th>\n",
       "      <th>description</th>\n",
       "      <th>food_category_id</th>\n",
       "      <th>publication_date</th>\n",
       "    </tr>\n",
       "  </thead>\n",
       "  <tbody>\n",
       "    <tr>\n",
       "      <th>0</th>\n",
       "      <td>2644829</td>\n",
       "      <td>sub_sample_food</td>\n",
       "      <td>lentils, dry</td>\n",
       "      <td>16.0</td>\n",
       "      <td>2023-10-19</td>\n",
       "    </tr>\n",
       "    <tr>\n",
       "      <th>1</th>\n",
       "      <td>2347263</td>\n",
       "      <td>sub_sample_food</td>\n",
       "      <td>heavy cream</td>\n",
       "      <td>1.0</td>\n",
       "      <td>2022-10-28</td>\n",
       "    </tr>\n",
       "    <tr>\n",
       "      <th>2</th>\n",
       "      <td>2261954</td>\n",
       "      <td>sub_sample_food</td>\n",
       "      <td>Flour, potato</td>\n",
       "      <td>11.0</td>\n",
       "      <td>2022-04-28</td>\n",
       "    </tr>\n",
       "    <tr>\n",
       "      <th>3</th>\n",
       "      <td>321470</td>\n",
       "      <td>sub_sample_food</td>\n",
       "      <td>Salt, Iodized</td>\n",
       "      <td>2.0</td>\n",
       "      <td>2019-04-01</td>\n",
       "    </tr>\n",
       "    <tr>\n",
       "      <th>4</th>\n",
       "      <td>322951</td>\n",
       "      <td>sub_sample_food</td>\n",
       "      <td>Hot dogs beef</td>\n",
       "      <td>7.0</td>\n",
       "      <td>2019-04-01</td>\n",
       "    </tr>\n",
       "    <tr>\n",
       "      <th>...</th>\n",
       "      <td>...</td>\n",
       "      <td>...</td>\n",
       "      <td>...</td>\n",
       "      <td>...</td>\n",
       "      <td>...</td>\n",
       "    </tr>\n",
       "    <tr>\n",
       "      <th>95</th>\n",
       "      <td>2260615</td>\n",
       "      <td>sub_sample_food</td>\n",
       "      <td>Yogurt, whole milk, plain</td>\n",
       "      <td>1.0</td>\n",
       "      <td>2022-04-28</td>\n",
       "    </tr>\n",
       "    <tr>\n",
       "      <th>96</th>\n",
       "      <td>2646468</td>\n",
       "      <td>sub_sample_food</td>\n",
       "      <td>chicken, breast, boneless, skinless</td>\n",
       "      <td>5.0</td>\n",
       "      <td>2023-10-19</td>\n",
       "    </tr>\n",
       "    <tr>\n",
       "      <th>97</th>\n",
       "      <td>2647032</td>\n",
       "      <td>sub_sample_food</td>\n",
       "      <td>pork, loin, boneless</td>\n",
       "      <td>10.0</td>\n",
       "      <td>2023-10-19</td>\n",
       "    </tr>\n",
       "    <tr>\n",
       "      <th>98</th>\n",
       "      <td>2349564</td>\n",
       "      <td>sub_sample_food</td>\n",
       "      <td>Oats, whole grain, rolled, old fashioned</td>\n",
       "      <td>20.0</td>\n",
       "      <td>2022-10-28</td>\n",
       "    </tr>\n",
       "    <tr>\n",
       "      <th>99</th>\n",
       "      <td>328565</td>\n",
       "      <td>market_acquisition</td>\n",
       "      <td>Cheese, cheddar, mild, block/chunk, store bran...</td>\n",
       "      <td>1.0</td>\n",
       "      <td>2019-04-01</td>\n",
       "    </tr>\n",
       "  </tbody>\n",
       "</table>\n",
       "<p>100 rows × 5 columns</p>\n",
       "</div>"
      ],
      "text/plain": [
       "     fdc_id           data_type  \\\n",
       "0   2644829     sub_sample_food   \n",
       "1   2347263     sub_sample_food   \n",
       "2   2261954     sub_sample_food   \n",
       "3    321470     sub_sample_food   \n",
       "4    322951     sub_sample_food   \n",
       "..      ...                 ...   \n",
       "95  2260615     sub_sample_food   \n",
       "96  2646468     sub_sample_food   \n",
       "97  2647032     sub_sample_food   \n",
       "98  2349564     sub_sample_food   \n",
       "99   328565  market_acquisition   \n",
       "\n",
       "                                          description  food_category_id  \\\n",
       "0                                        lentils, dry              16.0   \n",
       "1                                         heavy cream               1.0   \n",
       "2                                       Flour, potato              11.0   \n",
       "3                                       Salt, Iodized               2.0   \n",
       "4                                       Hot dogs beef               7.0   \n",
       "..                                                ...               ...   \n",
       "95                          Yogurt, whole milk, plain               1.0   \n",
       "96                chicken, breast, boneless, skinless               5.0   \n",
       "97                               pork, loin, boneless              10.0   \n",
       "98           Oats, whole grain, rolled, old fashioned              20.0   \n",
       "99  Cheese, cheddar, mild, block/chunk, store bran...               1.0   \n",
       "\n",
       "   publication_date  \n",
       "0        2023-10-19  \n",
       "1        2022-10-28  \n",
       "2        2022-04-28  \n",
       "3        2019-04-01  \n",
       "4        2019-04-01  \n",
       "..              ...  \n",
       "95       2022-04-28  \n",
       "96       2023-10-19  \n",
       "97       2023-10-19  \n",
       "98       2022-10-28  \n",
       "99       2019-04-01  \n",
       "\n",
       "[100 rows x 5 columns]"
      ]
     },
     "execution_count": 15,
     "metadata": {},
     "output_type": "execute_result"
    }
   ],
   "source": [
    "import pandas as pd\n",
    "\n",
    "food = pd.read_csv('food_sample_100.csv')\n",
    "# food = pd.read_csv('food_sample_100.csv', sep=\",\", encoding=\"utf-8\")\n",
    "food"
   ]
  },
  {
   "cell_type": "code",
   "execution_count": 16,
   "metadata": {},
   "outputs": [],
   "source": [
    "# Pozor: Metoda vraci novy DataFrame s upravenym indexem, tzn. neprepisuje automaticky stary.\n",
    "# Proto ho musime znovu ulozit do promenne food\n",
    "food = food.set_index(\"fdc_id\")\n",
    "\n",
    "# Pripadne lze index nastavit rovnou pri nacteni parametrem index_col\n",
    "# food = pd.read_csv('food_sample_100.csv', index_col=\"fdc_id\")"
   ]
  },
  {
   "cell_type": "markdown",
   "metadata": {},
   "source": [
    "## Metody pro získání přehledu o datech"
   ]
  },
  {
   "cell_type": "code",
   "execution_count": 17,
   "metadata": {},
   "outputs": [
    {
     "data": {
      "text/html": [
       "<div>\n",
       "<style scoped>\n",
       "    .dataframe tbody tr th:only-of-type {\n",
       "        vertical-align: middle;\n",
       "    }\n",
       "\n",
       "    .dataframe tbody tr th {\n",
       "        vertical-align: top;\n",
       "    }\n",
       "\n",
       "    .dataframe thead th {\n",
       "        text-align: right;\n",
       "    }\n",
       "</style>\n",
       "<table border=\"1\" class=\"dataframe\">\n",
       "  <thead>\n",
       "    <tr style=\"text-align: right;\">\n",
       "      <th></th>\n",
       "      <th>data_type</th>\n",
       "      <th>description</th>\n",
       "      <th>food_category_id</th>\n",
       "      <th>publication_date</th>\n",
       "    </tr>\n",
       "    <tr>\n",
       "      <th>fdc_id</th>\n",
       "      <th></th>\n",
       "      <th></th>\n",
       "      <th></th>\n",
       "      <th></th>\n",
       "    </tr>\n",
       "  </thead>\n",
       "  <tbody>\n",
       "    <tr>\n",
       "      <th>2644829</th>\n",
       "      <td>sub_sample_food</td>\n",
       "      <td>lentils, dry</td>\n",
       "      <td>16.0</td>\n",
       "      <td>2023-10-19</td>\n",
       "    </tr>\n",
       "    <tr>\n",
       "      <th>2347263</th>\n",
       "      <td>sub_sample_food</td>\n",
       "      <td>heavy cream</td>\n",
       "      <td>1.0</td>\n",
       "      <td>2022-10-28</td>\n",
       "    </tr>\n",
       "    <tr>\n",
       "      <th>2261954</th>\n",
       "      <td>sub_sample_food</td>\n",
       "      <td>Flour, potato</td>\n",
       "      <td>11.0</td>\n",
       "      <td>2022-04-28</td>\n",
       "    </tr>\n",
       "    <tr>\n",
       "      <th>321470</th>\n",
       "      <td>sub_sample_food</td>\n",
       "      <td>Salt, Iodized</td>\n",
       "      <td>2.0</td>\n",
       "      <td>2019-04-01</td>\n",
       "    </tr>\n",
       "    <tr>\n",
       "      <th>322951</th>\n",
       "      <td>sub_sample_food</td>\n",
       "      <td>Hot dogs beef</td>\n",
       "      <td>7.0</td>\n",
       "      <td>2019-04-01</td>\n",
       "    </tr>\n",
       "  </tbody>\n",
       "</table>\n",
       "</div>"
      ],
      "text/plain": [
       "               data_type    description  food_category_id publication_date\n",
       "fdc_id                                                                    \n",
       "2644829  sub_sample_food   lentils, dry              16.0       2023-10-19\n",
       "2347263  sub_sample_food    heavy cream               1.0       2022-10-28\n",
       "2261954  sub_sample_food  Flour, potato              11.0       2022-04-28\n",
       "321470   sub_sample_food  Salt, Iodized               2.0       2019-04-01\n",
       "322951   sub_sample_food  Hot dogs beef               7.0       2019-04-01"
      ]
     },
     "execution_count": 17,
     "metadata": {},
     "output_type": "execute_result"
    }
   ],
   "source": [
    "food.head()\n",
    "# food.head(3)"
   ]
  },
  {
   "cell_type": "code",
   "execution_count": 18,
   "metadata": {},
   "outputs": [
    {
     "data": {
      "text/html": [
       "<div>\n",
       "<style scoped>\n",
       "    .dataframe tbody tr th:only-of-type {\n",
       "        vertical-align: middle;\n",
       "    }\n",
       "\n",
       "    .dataframe tbody tr th {\n",
       "        vertical-align: top;\n",
       "    }\n",
       "\n",
       "    .dataframe thead th {\n",
       "        text-align: right;\n",
       "    }\n",
       "</style>\n",
       "<table border=\"1\" class=\"dataframe\">\n",
       "  <thead>\n",
       "    <tr style=\"text-align: right;\">\n",
       "      <th></th>\n",
       "      <th>data_type</th>\n",
       "      <th>description</th>\n",
       "      <th>food_category_id</th>\n",
       "      <th>publication_date</th>\n",
       "    </tr>\n",
       "    <tr>\n",
       "      <th>fdc_id</th>\n",
       "      <th></th>\n",
       "      <th></th>\n",
       "      <th></th>\n",
       "      <th></th>\n",
       "    </tr>\n",
       "  </thead>\n",
       "  <tbody>\n",
       "    <tr>\n",
       "      <th>2260615</th>\n",
       "      <td>sub_sample_food</td>\n",
       "      <td>Yogurt, whole milk, plain</td>\n",
       "      <td>1.0</td>\n",
       "      <td>2022-04-28</td>\n",
       "    </tr>\n",
       "    <tr>\n",
       "      <th>2646468</th>\n",
       "      <td>sub_sample_food</td>\n",
       "      <td>chicken, breast, boneless, skinless</td>\n",
       "      <td>5.0</td>\n",
       "      <td>2023-10-19</td>\n",
       "    </tr>\n",
       "    <tr>\n",
       "      <th>2647032</th>\n",
       "      <td>sub_sample_food</td>\n",
       "      <td>pork, loin, boneless</td>\n",
       "      <td>10.0</td>\n",
       "      <td>2023-10-19</td>\n",
       "    </tr>\n",
       "    <tr>\n",
       "      <th>2349564</th>\n",
       "      <td>sub_sample_food</td>\n",
       "      <td>Oats, whole grain, rolled, old fashioned</td>\n",
       "      <td>20.0</td>\n",
       "      <td>2022-10-28</td>\n",
       "    </tr>\n",
       "    <tr>\n",
       "      <th>328565</th>\n",
       "      <td>market_acquisition</td>\n",
       "      <td>Cheese, cheddar, mild, block/chunk, store bran...</td>\n",
       "      <td>1.0</td>\n",
       "      <td>2019-04-01</td>\n",
       "    </tr>\n",
       "  </tbody>\n",
       "</table>\n",
       "</div>"
      ],
      "text/plain": [
       "                  data_type  \\\n",
       "fdc_id                        \n",
       "2260615     sub_sample_food   \n",
       "2646468     sub_sample_food   \n",
       "2647032     sub_sample_food   \n",
       "2349564     sub_sample_food   \n",
       "328565   market_acquisition   \n",
       "\n",
       "                                               description  food_category_id  \\\n",
       "fdc_id                                                                         \n",
       "2260615                          Yogurt, whole milk, plain               1.0   \n",
       "2646468                chicken, breast, boneless, skinless               5.0   \n",
       "2647032                               pork, loin, boneless              10.0   \n",
       "2349564           Oats, whole grain, rolled, old fashioned              20.0   \n",
       "328565   Cheese, cheddar, mild, block/chunk, store bran...               1.0   \n",
       "\n",
       "        publication_date  \n",
       "fdc_id                    \n",
       "2260615       2022-04-28  \n",
       "2646468       2023-10-19  \n",
       "2647032       2023-10-19  \n",
       "2349564       2022-10-28  \n",
       "328565        2019-04-01  "
      ]
     },
     "execution_count": 18,
     "metadata": {},
     "output_type": "execute_result"
    }
   ],
   "source": [
    "food.tail()"
   ]
  },
  {
   "cell_type": "code",
   "execution_count": 19,
   "metadata": {},
   "outputs": [
    {
     "data": {
      "text/html": [
       "<div>\n",
       "<style scoped>\n",
       "    .dataframe tbody tr th:only-of-type {\n",
       "        vertical-align: middle;\n",
       "    }\n",
       "\n",
       "    .dataframe tbody tr th {\n",
       "        vertical-align: top;\n",
       "    }\n",
       "\n",
       "    .dataframe thead th {\n",
       "        text-align: right;\n",
       "    }\n",
       "</style>\n",
       "<table border=\"1\" class=\"dataframe\">\n",
       "  <thead>\n",
       "    <tr style=\"text-align: right;\">\n",
       "      <th></th>\n",
       "      <th>data_type</th>\n",
       "      <th>description</th>\n",
       "      <th>food_category_id</th>\n",
       "      <th>publication_date</th>\n",
       "    </tr>\n",
       "    <tr>\n",
       "      <th>fdc_id</th>\n",
       "      <th></th>\n",
       "      <th></th>\n",
       "      <th></th>\n",
       "      <th></th>\n",
       "    </tr>\n",
       "  </thead>\n",
       "  <tbody>\n",
       "    <tr>\n",
       "      <th>1751660</th>\n",
       "      <td>sub_sample_food</td>\n",
       "      <td>SOY MILK, UNSWEETENED, PLAIN, SHELF STABLE</td>\n",
       "      <td>16.0</td>\n",
       "      <td>2021-04-23</td>\n",
       "    </tr>\n",
       "    <tr>\n",
       "      <th>2004725</th>\n",
       "      <td>sub_sample_food</td>\n",
       "      <td>GRAPE JUICE, PURPLE, FROM CONCENTRATE WITH ADD...</td>\n",
       "      <td>9.0</td>\n",
       "      <td>2021-10-15</td>\n",
       "    </tr>\n",
       "    <tr>\n",
       "      <th>1751190</th>\n",
       "      <td>sub_sample_food</td>\n",
       "      <td>ALMOND MILK, UNSWEETENED, PLAIN, SHELF STABLE</td>\n",
       "      <td>14.0</td>\n",
       "      <td>2021-04-23</td>\n",
       "    </tr>\n",
       "  </tbody>\n",
       "</table>\n",
       "</div>"
      ],
      "text/plain": [
       "               data_type                                        description  \\\n",
       "fdc_id                                                                        \n",
       "1751660  sub_sample_food         SOY MILK, UNSWEETENED, PLAIN, SHELF STABLE   \n",
       "2004725  sub_sample_food  GRAPE JUICE, PURPLE, FROM CONCENTRATE WITH ADD...   \n",
       "1751190  sub_sample_food      ALMOND MILK, UNSWEETENED, PLAIN, SHELF STABLE   \n",
       "\n",
       "         food_category_id publication_date  \n",
       "fdc_id                                      \n",
       "1751660              16.0       2021-04-23  \n",
       "2004725               9.0       2021-10-15  \n",
       "1751190              14.0       2021-04-23  "
      ]
     },
     "execution_count": 19,
     "metadata": {},
     "output_type": "execute_result"
    }
   ],
   "source": [
    "food.sample(3)"
   ]
  },
  {
   "cell_type": "code",
   "execution_count": 20,
   "metadata": {},
   "outputs": [
    {
     "name": "stdout",
     "output_type": "stream",
     "text": [
      "<class 'pandas.core.frame.DataFrame'>\n",
      "Index: 100 entries, 2644829 to 328565\n",
      "Data columns (total 4 columns):\n",
      " #   Column            Non-Null Count  Dtype  \n",
      "---  ------            --------------  -----  \n",
      " 0   data_type         100 non-null    object \n",
      " 1   description       100 non-null    object \n",
      " 2   food_category_id  99 non-null     float64\n",
      " 3   publication_date  100 non-null    object \n",
      "dtypes: float64(1), object(3)\n",
      "memory usage: 3.9+ KB\n"
     ]
    }
   ],
   "source": [
    "food.info()"
   ]
  },
  {
   "cell_type": "code",
   "execution_count": 21,
   "metadata": {},
   "outputs": [
    {
     "data": {
      "text/plain": [
       "100"
      ]
     },
     "execution_count": 21,
     "metadata": {},
     "output_type": "execute_result"
    }
   ],
   "source": [
    "# food.shape\n",
    "food.shape[0]\n",
    "\n",
    "# Funguje i len() z Pythonu\n",
    "len(food)"
   ]
  },
  {
   "cell_type": "code",
   "execution_count": 22,
   "metadata": {},
   "outputs": [
    {
     "data": {
      "text/plain": [
       "Index(['data_type', 'description', 'food_category_id', 'publication_date'], dtype='object')"
      ]
     },
     "execution_count": 22,
     "metadata": {},
     "output_type": "execute_result"
    }
   ],
   "source": [
    "food.columns\n",
    "# food.columns[1]\n",
    "# list(food.columns)"
   ]
  },
  {
   "cell_type": "markdown",
   "metadata": {},
   "source": [
    "## Výběr sloupců"
   ]
  },
  {
   "cell_type": "code",
   "execution_count": 23,
   "metadata": {},
   "outputs": [
    {
     "data": {
      "text/plain": [
       "fdc_id\n",
       "2644829                                         lentils, dry\n",
       "2347263                                          heavy cream\n",
       "2261954                                        Flour, potato\n",
       "321470                                         Salt, Iodized\n",
       "322951                                         Hot dogs beef\n",
       "                                 ...                        \n",
       "2260615                            Yogurt, whole milk, plain\n",
       "2646468                  chicken, breast, boneless, skinless\n",
       "2647032                                 pork, loin, boneless\n",
       "2349564             Oats, whole grain, rolled, old fashioned\n",
       "328565     Cheese, cheddar, mild, block/chunk, store bran...\n",
       "Name: description, Length: 100, dtype: object"
      ]
     },
     "execution_count": 23,
     "metadata": {},
     "output_type": "execute_result"
    }
   ],
   "source": [
    "# Vystupem je Series\n",
    "food['description']"
   ]
  },
  {
   "cell_type": "code",
   "execution_count": 24,
   "metadata": {},
   "outputs": [
    {
     "data": {
      "text/html": [
       "<div>\n",
       "<style scoped>\n",
       "    .dataframe tbody tr th:only-of-type {\n",
       "        vertical-align: middle;\n",
       "    }\n",
       "\n",
       "    .dataframe tbody tr th {\n",
       "        vertical-align: top;\n",
       "    }\n",
       "\n",
       "    .dataframe thead th {\n",
       "        text-align: right;\n",
       "    }\n",
       "</style>\n",
       "<table border=\"1\" class=\"dataframe\">\n",
       "  <thead>\n",
       "    <tr style=\"text-align: right;\">\n",
       "      <th></th>\n",
       "      <th>description</th>\n",
       "      <th>publication_date</th>\n",
       "    </tr>\n",
       "    <tr>\n",
       "      <th>fdc_id</th>\n",
       "      <th></th>\n",
       "      <th></th>\n",
       "    </tr>\n",
       "  </thead>\n",
       "  <tbody>\n",
       "    <tr>\n",
       "      <th>2644829</th>\n",
       "      <td>lentils, dry</td>\n",
       "      <td>2023-10-19</td>\n",
       "    </tr>\n",
       "    <tr>\n",
       "      <th>2347263</th>\n",
       "      <td>heavy cream</td>\n",
       "      <td>2022-10-28</td>\n",
       "    </tr>\n",
       "    <tr>\n",
       "      <th>2261954</th>\n",
       "      <td>Flour, potato</td>\n",
       "      <td>2022-04-28</td>\n",
       "    </tr>\n",
       "    <tr>\n",
       "      <th>321470</th>\n",
       "      <td>Salt, Iodized</td>\n",
       "      <td>2019-04-01</td>\n",
       "    </tr>\n",
       "    <tr>\n",
       "      <th>322951</th>\n",
       "      <td>Hot dogs beef</td>\n",
       "      <td>2019-04-01</td>\n",
       "    </tr>\n",
       "    <tr>\n",
       "      <th>...</th>\n",
       "      <td>...</td>\n",
       "      <td>...</td>\n",
       "    </tr>\n",
       "    <tr>\n",
       "      <th>2260615</th>\n",
       "      <td>Yogurt, whole milk, plain</td>\n",
       "      <td>2022-04-28</td>\n",
       "    </tr>\n",
       "    <tr>\n",
       "      <th>2646468</th>\n",
       "      <td>chicken, breast, boneless, skinless</td>\n",
       "      <td>2023-10-19</td>\n",
       "    </tr>\n",
       "    <tr>\n",
       "      <th>2647032</th>\n",
       "      <td>pork, loin, boneless</td>\n",
       "      <td>2023-10-19</td>\n",
       "    </tr>\n",
       "    <tr>\n",
       "      <th>2349564</th>\n",
       "      <td>Oats, whole grain, rolled, old fashioned</td>\n",
       "      <td>2022-10-28</td>\n",
       "    </tr>\n",
       "    <tr>\n",
       "      <th>328565</th>\n",
       "      <td>Cheese, cheddar, mild, block/chunk, store bran...</td>\n",
       "      <td>2019-04-01</td>\n",
       "    </tr>\n",
       "  </tbody>\n",
       "</table>\n",
       "<p>100 rows × 2 columns</p>\n",
       "</div>"
      ],
      "text/plain": [
       "                                               description publication_date\n",
       "fdc_id                                                                     \n",
       "2644829                                       lentils, dry       2023-10-19\n",
       "2347263                                        heavy cream       2022-10-28\n",
       "2261954                                      Flour, potato       2022-04-28\n",
       "321470                                       Salt, Iodized       2019-04-01\n",
       "322951                                       Hot dogs beef       2019-04-01\n",
       "...                                                    ...              ...\n",
       "2260615                          Yogurt, whole milk, plain       2022-04-28\n",
       "2646468                chicken, breast, boneless, skinless       2023-10-19\n",
       "2647032                               pork, loin, boneless       2023-10-19\n",
       "2349564           Oats, whole grain, rolled, old fashioned       2022-10-28\n",
       "328565   Cheese, cheddar, mild, block/chunk, store bran...       2019-04-01\n",
       "\n",
       "[100 rows x 2 columns]"
      ]
     },
     "execution_count": 24,
     "metadata": {},
     "output_type": "execute_result"
    }
   ],
   "source": [
    "# Vystupem je DataFrame\n",
    "food[['description', 'publication_date']]"
   ]
  },
  {
   "cell_type": "code",
   "execution_count": 25,
   "metadata": {},
   "outputs": [
    {
     "data": {
      "text/html": [
       "<div>\n",
       "<style scoped>\n",
       "    .dataframe tbody tr th:only-of-type {\n",
       "        vertical-align: middle;\n",
       "    }\n",
       "\n",
       "    .dataframe tbody tr th {\n",
       "        vertical-align: top;\n",
       "    }\n",
       "\n",
       "    .dataframe thead th {\n",
       "        text-align: right;\n",
       "    }\n",
       "</style>\n",
       "<table border=\"1\" class=\"dataframe\">\n",
       "  <thead>\n",
       "    <tr style=\"text-align: right;\">\n",
       "      <th></th>\n",
       "      <th>description</th>\n",
       "    </tr>\n",
       "    <tr>\n",
       "      <th>fdc_id</th>\n",
       "      <th></th>\n",
       "    </tr>\n",
       "  </thead>\n",
       "  <tbody>\n",
       "    <tr>\n",
       "      <th>2644829</th>\n",
       "      <td>lentils, dry</td>\n",
       "    </tr>\n",
       "    <tr>\n",
       "      <th>2347263</th>\n",
       "      <td>heavy cream</td>\n",
       "    </tr>\n",
       "    <tr>\n",
       "      <th>2261954</th>\n",
       "      <td>Flour, potato</td>\n",
       "    </tr>\n",
       "    <tr>\n",
       "      <th>321470</th>\n",
       "      <td>Salt, Iodized</td>\n",
       "    </tr>\n",
       "    <tr>\n",
       "      <th>322951</th>\n",
       "      <td>Hot dogs beef</td>\n",
       "    </tr>\n",
       "    <tr>\n",
       "      <th>...</th>\n",
       "      <td>...</td>\n",
       "    </tr>\n",
       "    <tr>\n",
       "      <th>2260615</th>\n",
       "      <td>Yogurt, whole milk, plain</td>\n",
       "    </tr>\n",
       "    <tr>\n",
       "      <th>2646468</th>\n",
       "      <td>chicken, breast, boneless, skinless</td>\n",
       "    </tr>\n",
       "    <tr>\n",
       "      <th>2647032</th>\n",
       "      <td>pork, loin, boneless</td>\n",
       "    </tr>\n",
       "    <tr>\n",
       "      <th>2349564</th>\n",
       "      <td>Oats, whole grain, rolled, old fashioned</td>\n",
       "    </tr>\n",
       "    <tr>\n",
       "      <th>328565</th>\n",
       "      <td>Cheese, cheddar, mild, block/chunk, store bran...</td>\n",
       "    </tr>\n",
       "  </tbody>\n",
       "</table>\n",
       "<p>100 rows × 1 columns</p>\n",
       "</div>"
      ],
      "text/plain": [
       "                                               description\n",
       "fdc_id                                                    \n",
       "2644829                                       lentils, dry\n",
       "2347263                                        heavy cream\n",
       "2261954                                      Flour, potato\n",
       "321470                                       Salt, Iodized\n",
       "322951                                       Hot dogs beef\n",
       "...                                                    ...\n",
       "2260615                          Yogurt, whole milk, plain\n",
       "2646468                chicken, breast, boneless, skinless\n",
       "2647032                               pork, loin, boneless\n",
       "2349564           Oats, whole grain, rolled, old fashioned\n",
       "328565   Cheese, cheddar, mild, block/chunk, store bran...\n",
       "\n",
       "[100 rows x 1 columns]"
      ]
     },
     "execution_count": 25,
     "metadata": {},
     "output_type": "execute_result"
    }
   ],
   "source": [
    "# Vystupem je DataFrame\n",
    "food[['description']]"
   ]
  },
  {
   "cell_type": "markdown",
   "metadata": {},
   "source": [
    "## Další metody\n",
    "\n",
    "(z kapitoly Podmíněný výběr)"
   ]
  },
  {
   "cell_type": "code",
   "execution_count": 26,
   "metadata": {},
   "outputs": [
    {
     "data": {
      "text/plain": [
       "array(['sub_sample_food', 'sample_food', 'market_acquisition',\n",
       "       'agricultural_acquisition'], dtype=object)"
      ]
     },
     "execution_count": 26,
     "metadata": {},
     "output_type": "execute_result"
    }
   ],
   "source": [
    "food[\"data_type\"].unique()"
   ]
  },
  {
   "cell_type": "code",
   "execution_count": 27,
   "metadata": {},
   "outputs": [
    {
     "data": {
      "text/plain": [
       "data_type\n",
       "sub_sample_food             84\n",
       "market_acquisition           9\n",
       "sample_food                  4\n",
       "agricultural_acquisition     3\n",
       "Name: count, dtype: int64"
      ]
     },
     "execution_count": 27,
     "metadata": {},
     "output_type": "execute_result"
    }
   ],
   "source": [
    "food[\"data_type\"].value_counts()"
   ]
  },
  {
   "cell_type": "code",
   "execution_count": 28,
   "metadata": {},
   "outputs": [
    {
     "data": {
      "text/plain": [
       "data_type\n",
       "sub_sample_food             0.84\n",
       "market_acquisition          0.09\n",
       "sample_food                 0.04\n",
       "agricultural_acquisition    0.03\n",
       "Name: proportion, dtype: float64"
      ]
     },
     "execution_count": 28,
     "metadata": {},
     "output_type": "execute_result"
    }
   ],
   "source": [
    "# Procentualni zastoupeni\n",
    "food[\"data_type\"].value_counts(normalize=True)"
   ]
  }
 ],
 "metadata": {
  "kernelspec": {
   "display_name": "Python 3",
   "language": "python",
   "name": "python3"
  },
  "language_info": {
   "codemirror_mode": {
    "name": "ipython",
    "version": 3
   },
   "file_extension": ".py",
   "mimetype": "text/x-python",
   "name": "python",
   "nbconvert_exporter": "python",
   "pygments_lexer": "ipython3",
   "version": "3.12.1"
  }
 },
 "nbformat": 4,
 "nbformat_minor": 2
}
