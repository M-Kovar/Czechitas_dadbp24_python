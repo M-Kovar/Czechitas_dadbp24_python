{
 "cells": [
  {
   "cell_type": "markdown",
   "metadata": {},
   "source": [
    "# Rozcvička\n",
    "V datech se můžou vyskytnout chyby. Např. v datasetu `food_nutrient.csv` ve sloupci `amount` více než 100 000 miligramů výživné látky nedává smysl, jelikož uváděné hodnoty jsou vždy přepočtené na 100 gramů (100 000 miligramů) potraviny.\n",
    "\n",
    "Úkoly:\n",
    "* Načti si dataset `food_nutrient.csv`.\n",
    "* Vyhledej a ulož do nového DataFramu všechny řádky, kde jsou hodnoty v miligramech (ve sloupci `unit_name` je hodnota `MG`) a množství látky (sloupec `amount`) má větší hodnotu než 100 000. \n",
    "* Bonus: Do tohoto DF přidej sloupec `review_note`, do kterého ke všem záznamům ulož poznámku \"Incorrect value in 'amount'\".\n",
    "* Ulož tato data do tabulky `error_report.csv` pomocí metody `.to_csv()` jako např. `food_nutrient_errors.to_csv(\"error_report.csv\")`."
   ]
  }
 ],
 "metadata": {
  "kernelspec": {
   "display_name": "Python 3",
   "language": "python",
   "name": "python3"
  },
  "language_info": {
   "codemirror_mode": {
    "name": "ipython",
    "version": 3
   },
   "file_extension": ".py",
   "mimetype": "text/x-python",
   "name": "python",
   "nbconvert_exporter": "python",
   "pygments_lexer": "ipython3",
   "version": "3.12.1"
  }
 },
 "nbformat": 4,
 "nbformat_minor": 2
}
