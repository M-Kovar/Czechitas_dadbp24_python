{
 "cells": [
  {
   "cell_type": "markdown",
   "metadata": {},
   "source": [
    "# Cvičení 2: Agregace a řazení"
   ]
  },
  {
   "cell_type": "code",
   "execution_count": 8,
   "metadata": {},
   "outputs": [],
   "source": [
    "import pandas as pd\n",
    "\n",
    "# Příprava vstupního DataFramu\n",
    "food_nutrient = pd.read_csv(\"food_nutrient.csv\")\n",
    "food_sample_100 = pd.read_csv(\"food_sample_100.csv\")\n",
    "food_other = pd.read_csv(\"food_other.csv\")\n",
    "food = pd.concat([food_sample_100, food_other], ignore_index=True)\n",
    "food_merged = pd.merge(food, food_nutrient, on=\"fdc_id\")\n",
    "branded_food = pd.read_csv(\"branded_food.csv\")\n",
    "food_merged_brands = pd.merge(food_merged, branded_food, on=\"fdc_id\")\n",
    "\n",
    "food_merged_brands = food_merged_brands.rename(columns={\"name\": \"nutrient_name\"})"
   ]
  },
  {
   "cell_type": "markdown",
   "metadata": {},
   "source": [
    "## 1. Lipidy a tuky"
   ]
  },
  {
   "cell_type": "markdown",
   "metadata": {},
   "source": [
    "Podívej se nyní na to, které kategorie potravin obsahují nejvíce lipidů (tuků). "
   ]
  },
  {
   "cell_type": "markdown",
   "metadata": {},
   "source": [
    "Nejprve pomocí dotazu vytvoř novou tabulku `food_merged_brands_lipid`, do které pomocí dotazu vlož pouze řádky, které mají jako název výživné látky hodnotu `Total lipid (fat)`. \n"
   ]
  },
  {
   "cell_type": "code",
   "execution_count": 9,
   "metadata": {},
   "outputs": [
    {
     "data": {
      "text/plain": [
       "(9319, 37)"
      ]
     },
     "execution_count": 9,
     "metadata": {},
     "output_type": "execute_result"
    }
   ],
   "source": [
    "food_merged_brands_lipid = food_merged_brands[food_merged_brands[\"name\"] == \"Total lipid (fat)\"]\n",
    "food_merged_brands_lipid.shape"
   ]
  },
  {
   "cell_type": "markdown",
   "metadata": {},
   "source": [
    "Poté proveď agregaci podle názvu kategorie a seřaď výslednou tabulku tak, aby nahoře byly vidět kategorie s největším počtem tuků. "
   ]
  },
  {
   "cell_type": "code",
   "execution_count": 10,
   "metadata": {},
   "outputs": [
    {
     "data": {
      "text/plain": [
       "branded_food_category\n",
       "Oils Edible                                                 93.330000\n",
       "Vegetable & Cooking Oils                                    78.012391\n",
       "Butter & Spread                                             66.552667\n",
       "Butter/Butter Substitutes                                   63.965000\n",
       "Meat/Poultry/Other Animals – Prepared/Processed             59.520000\n",
       "Nut & Seed Butters                                          43.891746\n",
       "Meat/Poultry/Other Animals Sausages – Prepared/Processed    42.860000\n",
       "Popcorn, Peanuts, Seeds & Related Snacks                    37.204354\n",
       "Baking Accessories                                          35.400000\n",
       "Baking/Cooking Mixes (Shelf Stable)                         35.000000\n",
       "Name: amount, dtype: float64"
      ]
     },
     "execution_count": 10,
     "metadata": {},
     "output_type": "execute_result"
    }
   ],
   "source": [
    "food_merged_brands_lipid_agg = food_merged_brands_lipid.groupby(\"branded_food_category\")[\"amount\"].mean()\n",
    "\n",
    "# Pro přehlednost zobrazíme pouze prvních deset\n",
    "# lipid_agg_top10 = food_merged_brands_lipid_agg.sort_values(ascending=False)[:10]\n",
    "lipid_agg_top10 = food_merged_brands_lipid_agg.sort_values(ascending=False).head(10)\n",
    "\n",
    "# Bonus: jednodušeji pomocí metody nlargest()\n",
    "# lipid_agg_top10 = food_merged_brands_lipid_agg.nlargest(10)\n",
    "\n",
    "lipid_agg_top10"
   ]
  },
  {
   "cell_type": "markdown",
   "metadata": {},
   "source": [
    "Porovnej si výslednou tabulku s tabulkou `food_merged_brands_protein_agg`, kterou jsme vytvořili v rámci lekce. "
   ]
  },
  {
   "cell_type": "code",
   "execution_count": 11,
   "metadata": {},
   "outputs": [],
   "source": [
    "# Příprava DataFramu food_merged_brands_protein_agg pro cvičení, pokud ho ještě nemáme připravený z lekce\n",
    "food_merged_brands_protein = food_merged_brands[food_merged_brands[\"name\"] == \"Protein\"]\n",
    "food_merged_brands_protein_agg = food_merged_brands_protein.groupby(\"branded_food_category\")[\"amount\"].mean()"
   ]
  },
  {
   "cell_type": "markdown",
   "metadata": {},
   "source": [
    "Podívej se, zda se některé kategorie objevují v obou tabulkách."
   ]
  },
  {
   "cell_type": "code",
   "execution_count": 12,
   "metadata": {},
   "outputs": [
    {
     "data": {
      "text/plain": [
       "branded_food_category\n",
       "Bacon                                                  45.200000\n",
       "Green Supplements                                      44.590000\n",
       "Drinks Flavoured - Ready to Drink                      32.900000\n",
       "Energy, Protein & Muscle Recovery Drinks               31.831481\n",
       "Bacon, Sausages & Ribs                                 27.239630\n",
       "Canned Tuna                                            21.648889\n",
       "Meat/Poultry/Other Animals  Prepared/Processed         21.522368\n",
       "Nut & Seed Butters                                     20.651270\n",
       "Cheese                                                 19.969457\n",
       "Meat/Poultry/Other Animals – Unprepared/Unprocessed    19.640000\n",
       "Name: amount, dtype: float64"
      ]
     },
     "execution_count": 12,
     "metadata": {},
     "output_type": "execute_result"
    }
   ],
   "source": [
    "protein_agg_top10 = food_merged_brands_protein_agg.sort_values(ascending=False).head(10)\n",
    "\n",
    "# Jednodušší alternativa:\n",
    "# protein_agg_top10 = food_merged_brands_protein_agg.nlargest(10)\n",
    "\n",
    "protein_agg_top10"
   ]
  },
  {
   "cell_type": "code",
   "execution_count": 13,
   "metadata": {},
   "outputs": [
    {
     "data": {
      "text/plain": [
       "{'Nut & Seed Butters'}"
      ]
     },
     "execution_count": 13,
     "metadata": {},
     "output_type": "execute_result"
    }
   ],
   "source": [
    "# Bonus: Výpis kategorií společných pro obě tabulky - např. jako průnik množin\n",
    "# (protein_agg_top10 je Series s názvy kategorií využitými jako index -> názvy získáme přes .index)\n",
    "set(protein_agg_top10.index) & set(lipid_agg_top10.index)"
   ]
  },
  {
   "cell_type": "markdown",
   "metadata": {},
   "source": [
    "## 2. Výrobci a kategorie"
   ]
  },
  {
   "cell_type": "markdown",
   "metadata": {},
   "source": [
    "Nyní uvažuj, že si chceme udělat přehled o tom, jaký výrobce produkuje jaké typy potravin. \n"
   ]
  },
  {
   "cell_type": "markdown",
   "metadata": {},
   "source": [
    "\n",
    "Proveď agregaci tabulky `food_merged_brands` podle dvou sloupců: `brand_owner` a `branded_food_category`. \n",
    "\n",
    "Sloupce musíš metodě `food_merged_brands` zadat jako seznam, tj. musíš použít hranaté závorky. \n",
    "\n"
   ]
  },
  {
   "cell_type": "code",
   "execution_count": 14,
   "metadata": {},
   "outputs": [
    {
     "data": {
      "text/plain": [
       "<pandas.core.groupby.generic.DataFrameGroupBy object at 0x000001E8202514C0>"
      ]
     },
     "execution_count": 14,
     "metadata": {},
     "output_type": "execute_result"
    }
   ],
   "source": [
    "food_merged_brands_grouped = food_merged_brands.groupby([\"brand_owner\", \"branded_food_category\"])\n",
    "food_merged_brands_grouped"
   ]
  },
  {
   "cell_type": "markdown",
   "metadata": {},
   "source": [
    "\n",
    "Dále vyber sloupec `fdc_id` pro provedení agregace a použij agregaci `nunique()`, který vrátí počet unikátních hodnot. \n",
    "\n",
    "Nakonec použij metodu `sort_values` s tím, že chceš data seřadit sestupně."
   ]
  },
  {
   "cell_type": "code",
   "execution_count": 15,
   "metadata": {},
   "outputs": [
    {
     "data": {
      "text/plain": [
       "brand_owner                branded_food_category               \n",
       "Ferrara Candy Company      Candy                                   40\n",
       "CAMPBELL SOUP COMPANY      Prepared Soups                          29\n",
       "Danone US, LLC             Yogurt                                  24\n",
       "Bimbo Bakeries USA, Inc.   Breads & Buns                           24\n",
       "Wells Enterprises, Inc.    Ice Cream & Frozen Yogurt               24\n",
       "                                                                   ..\n",
       "Hempler Foods Group LLC    Sausages, Hotdogs & Brats                1\n",
       "Heinz USA                  Pickles, Olives, Peppers & Relishes      1\n",
       "Heinz Frozen Food Company  Canned Soup                              1\n",
       "Heintz & Weber Co Inc      Ketchup, Mustard, BBQ & Cheese Sauce     1\n",
       "pure batch LLC             Chocolate                                1\n",
       "Name: fdc_id, Length: 5892, dtype: int64"
      ]
     },
     "execution_count": 15,
     "metadata": {},
     "output_type": "execute_result"
    }
   ],
   "source": [
    "food_merged_brands_grouped[\"fdc_id\"].nunique().sort_values(ascending=False)"
   ]
  }
 ],
 "metadata": {
  "kernelspec": {
   "display_name": "Python 3",
   "language": "python",
   "name": "python3"
  },
  "language_info": {
   "codemirror_mode": {
    "name": "ipython",
    "version": 3
   },
   "file_extension": ".py",
   "mimetype": "text/x-python",
   "name": "python",
   "nbconvert_exporter": "python",
   "pygments_lexer": "ipython3",
   "version": "3.12.1"
  },
  "orig_nbformat": 4
 },
 "nbformat": 4,
 "nbformat_minor": 2
}
