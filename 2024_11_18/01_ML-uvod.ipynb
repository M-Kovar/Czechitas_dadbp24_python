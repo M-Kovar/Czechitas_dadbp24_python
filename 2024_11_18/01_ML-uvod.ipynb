{
 "cells": [
  {
   "cell_type": "markdown",
   "metadata": {},
   "source": [
    "# Strojové učení\n",
    "Zdroj: [Jiří Pešík. *Python pro data science.*](https://github.com/pesikj/PythonProDataScience)\n",
    "(upraveno)"
   ]
  },
  {
   "cell_type": "code",
   "execution_count": null,
   "metadata": {},
   "outputs": [],
   "source": [
    "# Instalace potřebných modulů\n",
    "%pip install pandas\n",
    "%pip install matplotlib\n",
    "%pip install seaborn\n",
    "%pip install scikit-learn\n",
    "%pip install statsmodels"
   ]
  },
  {
   "cell_type": "markdown",
   "metadata": {},
   "source": [
    "\n",
    "## Úvod do strojového učení\n",
    "\n",
    "Strojové učení (angl. _machine learning_) pod sebou sdružuje všechny systémy, které se učí z dat bez toho, aby potřebovali explicitní instrukce nebo pravidla. Informace, které se tyto systémy naučí z dat, umí pak generalizovat na nová, neznámá data. \n",
    "\n",
    "Když z analýzy dat našeho e-shopu zjistíme, že mladí studenti z Brna nakupují často boty přes internet a nabídneme proto všem budoucím uživatelům z Brna s věkem pod 26 let slevu na online nákup bot, tak to není strojové učení. Jedná se o jednoduché pravidlo, které jsme odvodili sami (i když třeba s využitím nějakých nástrojů datové analýzy).\n",
    "\n",
    "Když náš chatbot telefonního operátora při detekování slova \"tarif\" vždy odpoví tak, že pošle odkaz na přehled všech tarifů, tak to také není strojové učení. Zase se jedná jen o nějaké pravidlo. \n",
    "\n",
    "V oblasti strojového učení panuje mírné zmatení pojmů, které se v různých odvětvích vykládají různě. Neberte proto definice z tohoto kurzu jako úplně závazné :-)\n",
    "\n",
    "Strojové učení je podoblast umělé inteligence. Pojem umělé inteligence je často zaměňován právě za strojové učení. Můžete se také setkat s pojmem _deep learning_ nebo s pojmem _hluboké neuronové sítě_. Ty označují podskupinu algoritmů strojového učení, které vzrostly v popularitě a zájmu veřejnosti i akademiků z důvodu výrazně lepších a zobecnitelnějších výsledků než takzvané klasické strojové učení. Vyžadují ale velký výpočetní výkon (větší než má běžný osobní počítač), a také větší objem dat.\n",
    "\n",
    "V tomto kurzu se \"hlubokému\" strojovému učení věnovat nebudeme. Pro pochopení jak neuronová síť funguje bychom potřebovali i podstatnou část matematiky, konkrétně lineární algebru. Základní principy jsou ale stejné jako pro klasické strojové učení, a to je důležité si uvědomit. \n",
    "\n",
    "![ai-ml-dl-smaller.png](images/ai-ml-dl-smaller.png)\n",
    "\n",
    "### Příklady využití strojového učení\n",
    "\n",
    "- Detekce podvodů v bankovnictví: Strojové učení se používá k analýze transakcí a určení, zda jsou některé z nich podezřelé a mohou představovat podvod.\n",
    "- Doporučovací systémy: Firmy jako Netflix a Amazon používají strojové učení k doporučení filmů, televizních pořadů nebo produktů založených na chování uživatelů.\n",
    "- Rozpoznávání obličeje: Strojové učení se používá k vytvoření systémů rozpoznávání obličeje, které mohou být použity v mobilních telefonech pro odemykání nebo v bezpečnostních systémech.\n",
    "- Autonomní vozidla: Strojové učení je klíčové pro vývoj autonomních vozidel, které se učí navigovat na základě analýzy obrazu a dalších senzorických dat.\n",
    "- Prediktivní údržba: Výrobní společnosti mohou používat strojové učení k předvídání, kdy bude pravděpodobně potřeba údržba strojů a zařízení, což umožňuje minimalizovat dobu odstávky.\n",
    "- Zdravotnictví a medicína: Strojové učení se využívá pro diagnostiku chorob, předvídání výsledků léčby a vývoj nových léků. Může také analyzovat obrazové data, například rentgenové snímky nebo snímky z magnetické rezonance.\n",
    "- Zpracování přirozeného jazyka (NLP): Strojové učení se používá pro automatický překlad jazyků, generování textu, rozpoznávání hlasu a další úkoly spojené se zpracováním a generováním přirozeného jazyka.\n",
    "- Bezpečnostní systémy: Strojové učení se také využívá k detekci neobvyklých aktivit nebo útoků na počítačové systémy a sítě.\n",
    "- Energetika: Strojové učení může pomoci optimalizovat výrobu a distribuci energie, předvídat spotřebu energie a výkon solárních panelů.\n",
    "- Marketing a prodej: Strojové učení se využívá pro segmentaci zákazníků, předpověď chování zákazníků a personalizaci reklamních kampaní.\n",
    "- Zemědělství: Strojové učení může pomoci předpovědět úrodu, optimalizovat zavlažování a detekovat nemoci rostlin.\n",
    "- Hudba a umění: Algoritmy strojového učení mohou generovat hudbu nebo umělecká díla a také doporučovat obsah na základě uživatelských preferencí.\n",
    "- Meteorologie: Strojové učení se může využít k předpovědi počasí a klimatických změn.\n",
    "- Social media: Strojové učení je hojně využíváno v social mediích pro filtraci a personalizaci obsahu, rozpoznávání a sledování trendů, detekci hate speech, fake news, a další.\n",
    "- Realitní trh: Strojové učení může být využito k odhadu cen nemovitostí na základě různých faktorů, jako je umístění, velikost, stáří a další.\n",
    "- Hry: V oblasti herního průmyslu se strojové učení používá k vytváření inteligentních NPC (non-player characters), k návrhu nových úrovní nebo k optimalizaci herních strategií.\n",
    "\n",
    "### Obecný postup při využití strojového učení\n",
    "Pokud chceme nějakou otázku zodpovědět pomocí strojového učení, můžeme následovat obecný postup, který je společný pro všechny algoritmy. Podobný postup jsme měli i u testování hypotéz.\n",
    "\n",
    "1. V první řadě je potřeba si **definovat, čím se zabýváme, a jaký je problém, který řešíme**. Typicky budeme chtít získat nějaké předpovědi nebo odhady na základě dat. Také je dobré si rozmyslet, jestli vůbec strojové učení potřebujeme. Není náš problém řešitelný nějakým jednodušším způsobem?\n",
    "1. Následně potřebujeme **získat data**, s pomocí kterých budeme naší úlohu řešit. Data musíme takzvaně připravit. Je potřeba se rozhodnout, co budeme dělat v případě chybějících hodnot, zamyslet se nad případnou normalizací dat (co když jsou některé záznamy o vzdálenosti v kilometrech a jiné v mílích?) a také data náhodně rozdělit na trénovací a testovací sadu.\n",
    "1. Když máme připravená data, můžeme si **vybrat jeden nebo více algoritmů** strojového učení. Algoritmus vybereme podle typu úlohy a charakteru dat.\n",
    "1. Teď už můžeme takzvaně **\"natrénovat\"** (*train*) náš model. Spustíme algoritmus na sadu trénovacích dat a výsledkem je natrénovaný nebo naučený model.\n",
    "1. Na základě validační sady dat **ověříme**, jak dobře umí náš model předvídat na datech, která nezná. \n",
    "1. Podle výsledků evaluace můžeme **upravit některé parametry modelu**. V tom případě jdeme zpět na krok trénování modelu, a takto postupujeme v cyklu, dokud nejsme s výsledky spokojení.\n",
    "1. Na závěr spustíme náš model na **závěrečnou testovací sadu dat**. Tuto sadu algoritmus neviděl při trénování, ale ani jsme jí nepoužívali na upravování parametrů. Výsledky, které dostaneme pro tuto sadu dat by měly být ty, které napíšeme do akademického článku, do pracovní prezentace, nebo do zprávy o našem projektu.\n",
    "\n",
    "Pro účely kurzu budeme často využívat jen dvě sady dat: trénovací a testovací.\n",
    "\n",
    "![ml-schema-postupu.png](images/ml-schema-postupu.png)\n",
    "\n",
    "## Kategorizace typů strojového učení\n",
    "![image-2.png](images/image-2.png)\n",
    "\n",
    "Zdroj: [Types of Machine Learning Algorithms You Should Know](https://towardsdatascience.com/types-of-machine-learning-algorithms-you-should-know-953a08248861)\n",
    "\n",
    "### Supervised learning\n",
    "\n",
    "Existuje velká třída úloh, kterým se říká \"supervised learning\", nebo \"s učitelem\". Existují dvě velké podtřídy těchto úloh.\n",
    "\n",
    "#### Klasifikační úlohy\n",
    "\n",
    "Cílem klasifikační úlohy (*classification*) je rozdělit data do dvou či více skupin.\n",
    "\n",
    "Příklady klasifikačních úloh jsou:\n",
    "\n",
    "- Detekce spamu: Model strojového učení je natrénován na detekci spamových e-mailů na základě předchozích zkušeností. E-maily mohou být klasifikovány jako \"spam\" nebo \"ne-spam\".\n",
    "- Diagnostika nemocí: Na základě různých diagnostických testů může být model strojového učení použit k diagnostice různých typů nemocí. Například na základě snímků z magnetické rezonance mohou být pacienti klasifikováni jako \"má rakovinu\" nebo \"nemá rakovinu\".\n",
    "- Rozpoznávání ručně psaných číslic: Klasickým příkladem je MNIST dataset ručně psaných číslic, kde úkolem je klasifikovat obrázky do 10 tříd odpovídajících číslicím 0 až 9.\n",
    "- Predikce úvěrové bonity: Model může být vytvořen pro klasifikaci jednotlivců do kategorií \"dobrý úvěrový riziko\" a \"špatné úvěrové riziko\" na základě finančních a osobních údajů.\n",
    "- Klasifikace genů: V bioinformatice může být model použit k třídění genů do různých tříd na základě sekvence DNA.\n",
    "- Detekce sociálních botů: Na sociálních médiích může být model použit k rozpoznání účtů, které jsou pravděpodobně ovládány boty, na základě jejich chování a vzorců aktivity.\n",
    "\n",
    "#### Regresní úlohy\n",
    "\n",
    "Cílem regresní (*regression*) úlohy je predikce číselné hodnoty. Strojové učení nabízí algoritmy podobné klasické regresi i řadu jiných.\n",
    "\n",
    "Příklady regresních úloh jsou:\n",
    "\n",
    "- Predikce spotřeby energie: Model může být natrénován na předpovědění spotřeby energie budov nebo celých měst na základě historických dat a různých vlivů, jako je počasí, doba dne, atd.\n",
    "- Predikce akciových cen: I když je tato úloha velmi obtížná kvůli nestabilitě trhů, modely strojového učení mohou být použity pro předpovědění trendů akciových cen.\n",
    "- Predikce délky hospitalizace: V zdravotnictví může být model použit k předpovědění doby, po kterou bude pacient potřebovat hospitalizaci.\n",
    "- Predikce teploty: Modely mohou být využity pro předpovědění teploty v konkrétních časových úsecích nebo lokalitách na základě historických dat a vzorců."
   ]
  },
  {
   "attachments": {},
   "cell_type": "markdown",
   "metadata": {},
   "source": [
    "## Strojové učení v Pythonu\n",
    "\n",
    "V našem kurzu budeme pracovat s modulem [`scikit-learn`](https://scikit-learn.org/stable/). Tento modul je velice často využíván v takzvaném klasickém strojovém učení (tj. strojové učení, které _nevyužívá_ hlubokých neuronových sítí). Používá se jak pro výuku (má k dispozici [velké množství tutoriálů a příkladů](https://scikit-learn.org/stable/auto_examples/index.html)), tak pro praktické využití v akademickém nebo soukromém sektoru."
   ]
  },
  {
   "cell_type": "markdown",
   "metadata": {},
   "source": [
    "## Čtení na doma: Vyhodnocení přesnosti klasifikačního modelu"
   ]
  },
  {
   "attachments": {},
   "cell_type": "markdown",
   "metadata": {},
   "source": [
    "Existuje mnoho metrik, podle kterých můžeme měřit úspěšnost klasifikačního modelu. Základem jsou čtyři veličiny vyjadřující správnost klasifikace pomocí modelu.\n",
    "\n",
    "| Terminologie      | Popis |\n",
    "| ----------- | ----------- |\n",
    "| True Positives (**TP**)  | Počet záznamů, které model správně označil jako pozitivní.      |\n",
    "| True Negatives (**TN**)   | Počet záznamů, které model správně označil jako negativní.       |\n",
    "| False Positives (**FP**) | Počet záznamů, které model chybně označil jako pozitivní, ale ve skutečnosti jsou negativní.        |\n",
    "| False Negatives (**FN**) | Počet záznamů, které model chybně označil jako negativní, ale ve skutečnosti jsou pozitivní.        |\n",
    "\n",
    "Veličiny lze graficky vyjádřit pomocí tzv. confusion matrix, kterou získáme metodou `sklearn.metrics.confusion_matrix(y_test, y_pred)`. Například takto může matice vypadat při hodnocení klasifikace emailů jako spamu:\n",
    "![spam.png](images/spam.png)\n",
    "\n",
    "Zdroj: [How to interpret a confusion matrix for a machine learning model](https://www.evidentlyai.com/classification-metrics/confusion-matrix)\n",
    "\n",
    "\n",
    "Jak spočítat úspěšnost modelu? Nabízí se několik metrik:\n",
    "\n",
    "* _Accuracy_: Poměr správně klasifikovaných záznamů oproti celku.\n",
    "  * $A = \\frac{TP+TN}{TP+TN+FP+FN}$\n",
    "  * Metoda scikit-learn: `sklearn.metrics.accuracy_score(y_test, y_pred)`\n",
    "* _Precision_: Tato metrika **penalizuje** označení **negativního záznnamu za pozitivní**. Čím více negativních záznamů označíme za pozitivní, tím má metrika menší hodnotu. Metrika nepočítá s tím, kolik pozitivních záznamů jsme označili za negativní.\n",
    "  * $P = \\frac{TP}{TP+FP}$\n",
    "  * Metoda scikit-learn: `sklearn.metrics.precision_score(y_test, y_pred)`\n",
    "* _Recall_: Tato metrika **penalizuje** označení **pozitivního záznnamu za negativní**. Čím více pozitivních záznamů označíme za negativní, tím má metrika menší hodnotu. Metrika nepočítá s tím, kolik negativních záznamů jsme označili za pozitivní.\n",
    "  * $R = \\frac{TP}{TP+FN}$\n",
    "  * Metoda scikit-learn: `sklearn.metrics.recall_score(y_test, y_pred)`\n",
    "* _F1 Score_: Metrika, která zohlední jak Precision, tak Recall.\n",
    "  * $R = \\frac{2*TP}{2*TP+FN+FN}$\n",
    "  * Metoda scikit-learn: `sklearn.metrics.f1_score(y_test, y_pred)`"
   ]
  },
  {
   "cell_type": "markdown",
   "metadata": {},
   "source": [
    "## Neuronová síť: jeden neuron\n",
    "\n",
    "![neuron.png](images/neuron.png)\n",
    "\n",
    "Zdroj: [Power of a Single Neuron](https://towardsdatascience.com/power-of-a-single-neuron-perceptron-c418ba445095)\n"
   ]
  }
 ],
 "metadata": {
  "kernelspec": {
   "display_name": "Python 3",
   "language": "python",
   "name": "python3"
  },
  "language_info": {
   "codemirror_mode": {
    "name": "ipython",
    "version": 3
   },
   "file_extension": ".py",
   "mimetype": "text/x-python",
   "name": "python",
   "nbconvert_exporter": "python",
   "pygments_lexer": "ipython3",
   "version": "3.12.1"
  },
  "orig_nbformat": 4
 },
 "nbformat": 4,
 "nbformat_minor": 2
}
